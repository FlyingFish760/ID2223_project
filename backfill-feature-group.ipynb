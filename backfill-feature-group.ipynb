{
 "cells": [
  {
   "cell_type": "code",
   "execution_count": 1,
   "id": "90b0aca6",
   "metadata": {},
   "outputs": [
    {
     "name": "stdout",
     "output_type": "stream",
     "text": [
      "Requirement already satisfied: hopsworks in /Users/kaidixu/opt/anaconda3/envs/myenv/lib/python3.8/site-packages (from -r requirements.txt (line 3)) (3.4.3)\n",
      "Requirement already satisfied: joblib in /Users/kaidixu/opt/anaconda3/envs/myenv/lib/python3.8/site-packages (from -r requirements.txt (line 4)) (1.3.2)\n",
      "Collecting scikit-learn==1.2.2 (from -r requirements.txt (line 5))\n",
      "  Downloading scikit_learn-1.2.2-cp38-cp38-macosx_10_9_x86_64.whl (9.0 MB)\n",
      "\u001b[2K     \u001b[90m━━━━━━━━━━━━━━━━━━━━━━━━━━━━━━━━━━━━━━━━\u001b[0m \u001b[32m9.0/9.0 MB\u001b[0m \u001b[31m1.1 MB/s\u001b[0m eta \u001b[36m0:00:00\u001b[0m00:01\u001b[0m00:01\u001b[0m\n",
      "\u001b[?25hRequirement already satisfied: seaborn in /Users/kaidixu/opt/anaconda3/envs/myenv/lib/python3.8/site-packages (from -r requirements.txt (line 6)) (0.13.0)\n",
      "Requirement already satisfied: dataframe-image in /Users/kaidixu/opt/anaconda3/envs/myenv/lib/python3.8/site-packages (from -r requirements.txt (line 7)) (0.2.2)\n",
      "Requirement already satisfied: modal in /Users/kaidixu/opt/anaconda3/envs/myenv/lib/python3.8/site-packages (from -r requirements.txt (line 8)) (0.55.4094)\n",
      "Collecting gradio==3.14 (from -r requirements.txt (line 9))\n",
      "  Downloading gradio-3.14.0-py3-none-any.whl (13.8 MB)\n",
      "\u001b[2K     \u001b[90m━━━━━━━━━━━━━━━━━━━━━━━━━━━━━━━━━━━━━━━━\u001b[0m \u001b[32m13.8/13.8 MB\u001b[0m \u001b[31m1.1 MB/s\u001b[0m eta \u001b[36m0:00:00\u001b[0m00:01\u001b[0m00:01\u001b[0m\n",
      "\u001b[?25hRequirement already satisfied: ipywidgets in /Users/kaidixu/opt/anaconda3/envs/myenv/lib/python3.8/site-packages (from -r requirements.txt (line 10)) (8.0.4)\n",
      "Requirement already satisfied: numpy>=1.17.3 in /Users/kaidixu/opt/anaconda3/envs/myenv/lib/python3.8/site-packages (from scikit-learn==1.2.2->-r requirements.txt (line 5)) (1.23.5)\n",
      "Requirement already satisfied: scipy>=1.3.2 in /Users/kaidixu/opt/anaconda3/envs/myenv/lib/python3.8/site-packages (from scikit-learn==1.2.2->-r requirements.txt (line 5)) (1.10.1)\n",
      "Requirement already satisfied: threadpoolctl>=2.0.0 in /Users/kaidixu/opt/anaconda3/envs/myenv/lib/python3.8/site-packages (from scikit-learn==1.2.2->-r requirements.txt (line 5)) (3.2.0)\n",
      "Requirement already satisfied: aiohttp in /Users/kaidixu/opt/anaconda3/envs/myenv/lib/python3.8/site-packages (from gradio==3.14->-r requirements.txt (line 9)) (3.9.0)\n",
      "Requirement already satisfied: altair in /Users/kaidixu/opt/anaconda3/envs/myenv/lib/python3.8/site-packages (from gradio==3.14->-r requirements.txt (line 9)) (4.2.2)\n",
      "Requirement already satisfied: fastapi in /Users/kaidixu/opt/anaconda3/envs/myenv/lib/python3.8/site-packages (from gradio==3.14->-r requirements.txt (line 9)) (0.104.1)\n",
      "Collecting ffmpy (from gradio==3.14->-r requirements.txt (line 9))\n",
      "  Downloading ffmpy-0.3.1.tar.gz (5.5 kB)\n",
      "  Preparing metadata (setup.py) ... \u001b[?25ldone\n",
      "\u001b[?25hRequirement already satisfied: fsspec in /Users/kaidixu/opt/anaconda3/envs/myenv/lib/python3.8/site-packages (from gradio==3.14->-r requirements.txt (line 9)) (2023.10.0)\n",
      "Collecting httpx (from gradio==3.14->-r requirements.txt (line 9))\n",
      "  Downloading httpx-0.26.0-py3-none-any.whl.metadata (7.6 kB)\n",
      "Requirement already satisfied: jinja2 in /Users/kaidixu/opt/anaconda3/envs/myenv/lib/python3.8/site-packages (from gradio==3.14->-r requirements.txt (line 9)) (3.0.3)\n",
      "Requirement already satisfied: markdown-it-py[linkify,plugins] in /Users/kaidixu/opt/anaconda3/envs/myenv/lib/python3.8/site-packages (from gradio==3.14->-r requirements.txt (line 9)) (3.0.0)\n",
      "Requirement already satisfied: markupsafe in /Users/kaidixu/opt/anaconda3/envs/myenv/lib/python3.8/site-packages (from gradio==3.14->-r requirements.txt (line 9)) (2.0.1)\n",
      "Requirement already satisfied: matplotlib in /Users/kaidixu/opt/anaconda3/envs/myenv/lib/python3.8/site-packages (from gradio==3.14->-r requirements.txt (line 9)) (3.2.2)\n",
      "Collecting orjson (from gradio==3.14->-r requirements.txt (line 9))\n",
      "  Downloading orjson-3.9.10-cp38-cp38-macosx_10_15_x86_64.macosx_11_0_arm64.macosx_10_15_universal2.whl.metadata (49 kB)\n",
      "\u001b[2K     \u001b[90m━━━━━━━━━━━━━━━━━━━━━━━━━━━━━━━━━━━━━━━\u001b[0m \u001b[32m49.3/49.3 kB\u001b[0m \u001b[31m618.3 kB/s\u001b[0m eta \u001b[36m0:00:00\u001b[0m \u001b[36m0:00:01\u001b[0m\n",
      "\u001b[?25hRequirement already satisfied: pandas in /Users/kaidixu/opt/anaconda3/envs/myenv/lib/python3.8/site-packages (from gradio==3.14->-r requirements.txt (line 9)) (1.5.3)\n",
      "Requirement already satisfied: pillow in /Users/kaidixu/opt/anaconda3/envs/myenv/lib/python3.8/site-packages (from gradio==3.14->-r requirements.txt (line 9)) (10.1.0)\n",
      "Collecting pycryptodome (from gradio==3.14->-r requirements.txt (line 9))\n",
      "  Downloading pycryptodome-3.19.1-cp35-abi3-macosx_10_9_x86_64.whl.metadata (3.4 kB)\n",
      "Requirement already satisfied: pydantic in /Users/kaidixu/opt/anaconda3/envs/myenv/lib/python3.8/site-packages (from gradio==3.14->-r requirements.txt (line 9)) (2.5.1)\n",
      "Collecting pydub (from gradio==3.14->-r requirements.txt (line 9))\n",
      "  Downloading pydub-0.25.1-py2.py3-none-any.whl (32 kB)\n",
      "Collecting python-multipart (from gradio==3.14->-r requirements.txt (line 9))\n",
      "  Downloading python_multipart-0.0.6-py3-none-any.whl (45 kB)\n",
      "\u001b[2K     \u001b[90m━━━━━━━━━━━━━━━━━━━━━━━━━━━━━━━━━━━━━━━━\u001b[0m \u001b[32m45.7/45.7 kB\u001b[0m \u001b[31m1.1 MB/s\u001b[0m eta \u001b[36m0:00:00\u001b[0m\n",
      "\u001b[?25hRequirement already satisfied: pyyaml in /Users/kaidixu/opt/anaconda3/envs/myenv/lib/python3.8/site-packages (from gradio==3.14->-r requirements.txt (line 9)) (6.0.1)\n",
      "Requirement already satisfied: requests in /Users/kaidixu/opt/anaconda3/envs/myenv/lib/python3.8/site-packages (from gradio==3.14->-r requirements.txt (line 9)) (2.31.0)\n",
      "Collecting uvicorn (from gradio==3.14->-r requirements.txt (line 9))\n",
      "  Downloading uvicorn-0.25.0-py3-none-any.whl.metadata (6.4 kB)\n",
      "Collecting websockets>=10.0 (from gradio==3.14->-r requirements.txt (line 9))\n",
      "  Downloading websockets-12.0-cp38-cp38-macosx_10_9_x86_64.whl.metadata (6.6 kB)\n",
      "Requirement already satisfied: hsfs<3.5.0,>=3.4.0 in /Users/kaidixu/opt/anaconda3/envs/myenv/lib/python3.8/site-packages (from hsfs[python]<3.5.0,>=3.4.0->hopsworks->-r requirements.txt (line 3)) (3.4.4)\n",
      "Requirement already satisfied: hsml<3.5.0,>=3.4.0 in /Users/kaidixu/opt/anaconda3/envs/myenv/lib/python3.8/site-packages (from hopsworks->-r requirements.txt (line 3)) (3.4.5)\n",
      "Requirement already satisfied: pyhumps==1.6.1 in /Users/kaidixu/opt/anaconda3/envs/myenv/lib/python3.8/site-packages (from hopsworks->-r requirements.txt (line 3)) (1.6.1)\n",
      "Requirement already satisfied: furl in /Users/kaidixu/opt/anaconda3/envs/myenv/lib/python3.8/site-packages (from hopsworks->-r requirements.txt (line 3)) (2.1.3)\n",
      "Requirement already satisfied: boto3 in /Users/kaidixu/opt/anaconda3/envs/myenv/lib/python3.8/site-packages (from hopsworks->-r requirements.txt (line 3)) (1.28.85)\n",
      "Requirement already satisfied: pyjks in /Users/kaidixu/opt/anaconda3/envs/myenv/lib/python3.8/site-packages (from hopsworks->-r requirements.txt (line 3)) (20.0.0)\n",
      "Requirement already satisfied: mock in /Users/kaidixu/opt/anaconda3/envs/myenv/lib/python3.8/site-packages (from hopsworks->-r requirements.txt (line 3)) (5.1.0)\n",
      "Requirement already satisfied: tqdm in /Users/kaidixu/opt/anaconda3/envs/myenv/lib/python3.8/site-packages (from hopsworks->-r requirements.txt (line 3)) (4.66.1)\n",
      "Collecting matplotlib (from gradio==3.14->-r requirements.txt (line 9))\n",
      "  Downloading matplotlib-3.7.4-cp38-cp38-macosx_10_12_x86_64.whl.metadata (5.7 kB)\n",
      "Requirement already satisfied: nbconvert>=5 in /Users/kaidixu/opt/anaconda3/envs/myenv/lib/python3.8/site-packages (from dataframe-image->-r requirements.txt (line 7)) (7.10.0)\n",
      "Requirement already satisfied: packaging in /Users/kaidixu/opt/anaconda3/envs/myenv/lib/python3.8/site-packages (from dataframe-image->-r requirements.txt (line 7)) (23.1)\n",
      "Requirement already satisfied: mistune in /Users/kaidixu/opt/anaconda3/envs/myenv/lib/python3.8/site-packages (from dataframe-image->-r requirements.txt (line 7)) (2.0.4)\n",
      "Requirement already satisfied: lxml in /Users/kaidixu/opt/anaconda3/envs/myenv/lib/python3.8/site-packages (from dataframe-image->-r requirements.txt (line 7)) (4.9.3)\n",
      "Requirement already satisfied: beautifulsoup4 in /Users/kaidixu/opt/anaconda3/envs/myenv/lib/python3.8/site-packages (from dataframe-image->-r requirements.txt (line 7)) (4.12.2)\n",
      "Requirement already satisfied: cssutils in /Users/kaidixu/opt/anaconda3/envs/myenv/lib/python3.8/site-packages (from dataframe-image->-r requirements.txt (line 7)) (2.9.0)\n",
      "Requirement already satisfied: html2image in /Users/kaidixu/opt/anaconda3/envs/myenv/lib/python3.8/site-packages (from dataframe-image->-r requirements.txt (line 7)) (2.0.4.3)\n",
      "Requirement already satisfied: aiostream in /Users/kaidixu/opt/anaconda3/envs/myenv/lib/python3.8/site-packages (from modal->-r requirements.txt (line 8)) (0.5.2)\n",
      "Requirement already satisfied: asgiref in /Users/kaidixu/opt/anaconda3/envs/myenv/lib/python3.8/site-packages (from modal->-r requirements.txt (line 8)) (3.7.2)\n",
      "Requirement already satisfied: certifi in /Users/kaidixu/opt/anaconda3/envs/myenv/lib/python3.8/site-packages (from modal->-r requirements.txt (line 8)) (2023.11.17)\n",
      "Requirement already satisfied: click>=8.1.0 in /Users/kaidixu/opt/anaconda3/envs/myenv/lib/python3.8/site-packages (from modal->-r requirements.txt (line 8)) (8.1.7)\n",
      "Requirement already satisfied: grpclib==0.4.3 in /Users/kaidixu/opt/anaconda3/envs/myenv/lib/python3.8/site-packages (from modal->-r requirements.txt (line 8)) (0.4.3)\n",
      "Requirement already satisfied: importlib-metadata>=3.6.0 in /Users/kaidixu/opt/anaconda3/envs/myenv/lib/python3.8/site-packages (from modal->-r requirements.txt (line 8)) (6.0.0)\n",
      "Requirement already satisfied: protobuf!=4.24.0,<5.0,>=3.19 in /Users/kaidixu/opt/anaconda3/envs/myenv/lib/python3.8/site-packages (from modal->-r requirements.txt (line 8)) (4.25.1)\n",
      "Requirement already satisfied: rich>=12.0.0 in /Users/kaidixu/opt/anaconda3/envs/myenv/lib/python3.8/site-packages (from modal->-r requirements.txt (line 8)) (13.7.0)\n",
      "Requirement already satisfied: synchronicity~=0.5.3 in /Users/kaidixu/opt/anaconda3/envs/myenv/lib/python3.8/site-packages (from modal->-r requirements.txt (line 8)) (0.5.3)\n",
      "Requirement already satisfied: tblib>=1.7.0 in /Users/kaidixu/opt/anaconda3/envs/myenv/lib/python3.8/site-packages (from modal->-r requirements.txt (line 8)) (3.0.0)\n",
      "Requirement already satisfied: toml in /Users/kaidixu/opt/anaconda3/envs/myenv/lib/python3.8/site-packages (from modal->-r requirements.txt (line 8)) (0.10.2)\n",
      "Requirement already satisfied: typer~=0.9.0 in /Users/kaidixu/opt/anaconda3/envs/myenv/lib/python3.8/site-packages (from modal->-r requirements.txt (line 8)) (0.9.0)\n",
      "Requirement already satisfied: types-certifi in /Users/kaidixu/opt/anaconda3/envs/myenv/lib/python3.8/site-packages (from modal->-r requirements.txt (line 8)) (2021.10.8.3)\n",
      "Requirement already satisfied: types-toml in /Users/kaidixu/opt/anaconda3/envs/myenv/lib/python3.8/site-packages (from modal->-r requirements.txt (line 8)) (0.10.8.7)\n",
      "Requirement already satisfied: watchfiles in /Users/kaidixu/opt/anaconda3/envs/myenv/lib/python3.8/site-packages (from modal->-r requirements.txt (line 8)) (0.21.0)\n",
      "Requirement already satisfied: typing-extensions~=4.6 in /Users/kaidixu/opt/anaconda3/envs/myenv/lib/python3.8/site-packages (from modal->-r requirements.txt (line 8)) (4.8.0)\n",
      "Requirement already satisfied: cloudpickle<2.1.0,>=2.0.0 in /Users/kaidixu/opt/anaconda3/envs/myenv/lib/python3.8/site-packages (from modal->-r requirements.txt (line 8)) (2.0.0)\n",
      "Requirement already satisfied: h2<5,>=3.1.0 in /Users/kaidixu/opt/anaconda3/envs/myenv/lib/python3.8/site-packages (from grpclib==0.4.3->modal->-r requirements.txt (line 8)) (4.1.0)\n",
      "Requirement already satisfied: multidict in /Users/kaidixu/opt/anaconda3/envs/myenv/lib/python3.8/site-packages (from grpclib==0.4.3->modal->-r requirements.txt (line 8)) (6.0.4)\n",
      "Requirement already satisfied: ipykernel>=4.5.1 in /Users/kaidixu/opt/anaconda3/envs/myenv/lib/python3.8/site-packages (from ipywidgets->-r requirements.txt (line 10)) (6.25.0)\n",
      "Requirement already satisfied: ipython>=6.1.0 in /Users/kaidixu/opt/anaconda3/envs/myenv/lib/python3.8/site-packages (from ipywidgets->-r requirements.txt (line 10)) (8.12.2)\n",
      "Requirement already satisfied: traitlets>=4.3.1 in /Users/kaidixu/opt/anaconda3/envs/myenv/lib/python3.8/site-packages (from ipywidgets->-r requirements.txt (line 10)) (5.7.1)\n",
      "Requirement already satisfied: widgetsnbextension~=4.0 in /Users/kaidixu/opt/anaconda3/envs/myenv/lib/python3.8/site-packages (from ipywidgets->-r requirements.txt (line 10)) (4.0.5)\n",
      "Requirement already satisfied: jupyterlab-widgets~=3.0 in /Users/kaidixu/opt/anaconda3/envs/myenv/lib/python3.8/site-packages (from ipywidgets->-r requirements.txt (line 10)) (3.0.5)\n",
      "Requirement already satisfied: avro==1.11.0 in /Users/kaidixu/opt/anaconda3/envs/myenv/lib/python3.8/site-packages (from hsfs<3.5.0,>=3.4.0->hsfs[python]<3.5.0,>=3.4.0->hopsworks->-r requirements.txt (line 3)) (1.11.0)\n"
     ]
    },
    {
     "name": "stdout",
     "output_type": "stream",
     "text": [
      "Requirement already satisfied: sqlalchemy in /Users/kaidixu/opt/anaconda3/envs/myenv/lib/python3.8/site-packages (from hsfs<3.5.0,>=3.4.0->hsfs[python]<3.5.0,>=3.4.0->hopsworks->-r requirements.txt (line 3)) (2.0.23)\n",
      "Requirement already satisfied: PyMySQL[rsa] in /Users/kaidixu/opt/anaconda3/envs/myenv/lib/python3.8/site-packages (from hsfs<3.5.0,>=3.4.0->hsfs[python]<3.5.0,>=3.4.0->hopsworks->-r requirements.txt (line 3)) (1.1.0)\n",
      "Requirement already satisfied: great-expectations==0.14.13 in /Users/kaidixu/opt/anaconda3/envs/myenv/lib/python3.8/site-packages (from hsfs<3.5.0,>=3.4.0->hsfs[python]<3.5.0,>=3.4.0->hopsworks->-r requirements.txt (line 3)) (0.14.13)\n",
      "Requirement already satisfied: tzlocal in /Users/kaidixu/opt/anaconda3/envs/myenv/lib/python3.8/site-packages (from hsfs<3.5.0,>=3.4.0->hsfs[python]<3.5.0,>=3.4.0->hopsworks->-r requirements.txt (line 3)) (5.2)\n",
      "Requirement already satisfied: colorama>=0.4.3 in /Users/kaidixu/opt/anaconda3/envs/myenv/lib/python3.8/site-packages (from great-expectations==0.14.13->hsfs<3.5.0,>=3.4.0->hsfs[python]<3.5.0,>=3.4.0->hopsworks->-r requirements.txt (line 3)) (0.4.6)\n",
      "Requirement already satisfied: cryptography>=3.2 in /Users/kaidixu/opt/anaconda3/envs/myenv/lib/python3.8/site-packages (from great-expectations==0.14.13->hsfs<3.5.0,>=3.4.0->hsfs[python]<3.5.0,>=3.4.0->hopsworks->-r requirements.txt (line 3)) (41.0.3)\n",
      "Requirement already satisfied: dataclasses in /Users/kaidixu/opt/anaconda3/envs/myenv/lib/python3.8/site-packages (from great-expectations==0.14.13->hsfs<3.5.0,>=3.4.0->hsfs[python]<3.5.0,>=3.4.0->hopsworks->-r requirements.txt (line 3)) (0.6)\n",
      "Requirement already satisfied: jsonpatch>=1.22 in /Users/kaidixu/opt/anaconda3/envs/myenv/lib/python3.8/site-packages (from great-expectations==0.14.13->hsfs<3.5.0,>=3.4.0->hsfs[python]<3.5.0,>=3.4.0->hopsworks->-r requirements.txt (line 3)) (1.33)\n",
      "Requirement already satisfied: jsonschema>=2.5.1 in /Users/kaidixu/opt/anaconda3/envs/myenv/lib/python3.8/site-packages (from great-expectations==0.14.13->hsfs<3.5.0,>=3.4.0->hsfs[python]<3.5.0,>=3.4.0->hopsworks->-r requirements.txt (line 3)) (4.19.2)\n",
      "Requirement already satisfied: nbformat>=5.0 in /Users/kaidixu/opt/anaconda3/envs/myenv/lib/python3.8/site-packages (from great-expectations==0.14.13->hsfs<3.5.0,>=3.4.0->hsfs[python]<3.5.0,>=3.4.0->hopsworks->-r requirements.txt (line 3)) (5.9.2)\n",
      "Requirement already satisfied: pyparsing<3,>=2.4 in /Users/kaidixu/opt/anaconda3/envs/myenv/lib/python3.8/site-packages (from great-expectations==0.14.13->hsfs<3.5.0,>=3.4.0->hsfs[python]<3.5.0,>=3.4.0->hopsworks->-r requirements.txt (line 3)) (2.4.7)\n",
      "Requirement already satisfied: python-dateutil>=2.8.1 in /Users/kaidixu/opt/anaconda3/envs/myenv/lib/python3.8/site-packages (from great-expectations==0.14.13->hsfs<3.5.0,>=3.4.0->hsfs[python]<3.5.0,>=3.4.0->hopsworks->-r requirements.txt (line 3)) (2.8.2)\n",
      "Requirement already satisfied: pytz>=2021.3 in /Users/kaidixu/opt/anaconda3/envs/myenv/lib/python3.8/site-packages (from great-expectations==0.14.13->hsfs<3.5.0,>=3.4.0->hsfs[python]<3.5.0,>=3.4.0->hopsworks->-r requirements.txt (line 3)) (2023.3.post1)\n",
      "Requirement already satisfied: ruamel.yaml<0.17.18,>=0.16 in /Users/kaidixu/opt/anaconda3/envs/myenv/lib/python3.8/site-packages (from great-expectations==0.14.13->hsfs<3.5.0,>=3.4.0->hsfs[python]<3.5.0,>=3.4.0->hopsworks->-r requirements.txt (line 3)) (0.17.17)\n",
      "Requirement already satisfied: termcolor>=1.1.0 in /Users/kaidixu/opt/anaconda3/envs/myenv/lib/python3.8/site-packages (from great-expectations==0.14.13->hsfs<3.5.0,>=3.4.0->hsfs[python]<3.5.0,>=3.4.0->hopsworks->-r requirements.txt (line 3)) (2.3.0)\n",
      "Requirement already satisfied: urllib3<1.27,>=1.25.4 in /Users/kaidixu/opt/anaconda3/envs/myenv/lib/python3.8/site-packages (from great-expectations==0.14.13->hsfs<3.5.0,>=3.4.0->hsfs[python]<3.5.0,>=3.4.0->hopsworks->-r requirements.txt (line 3)) (1.26.18)\n",
      "Requirement already satisfied: entrypoints in /Users/kaidixu/opt/anaconda3/envs/myenv/lib/python3.8/site-packages (from altair->gradio==3.14->-r requirements.txt (line 9)) (0.4)\n",
      "Requirement already satisfied: toolz in /Users/kaidixu/opt/anaconda3/envs/myenv/lib/python3.8/site-packages (from altair->gradio==3.14->-r requirements.txt (line 9)) (0.12.0)\n",
      "Requirement already satisfied: pyhopshive[thrift] in /Users/kaidixu/opt/anaconda3/envs/myenv/lib/python3.8/site-packages (from hsfs[python]<3.5.0,>=3.4.0->hopsworks->-r requirements.txt (line 3)) (0.6.4.1.dev0)\n",
      "Requirement already satisfied: pyarrow>=10.0 in /Users/kaidixu/opt/anaconda3/envs/myenv/lib/python3.8/site-packages (from hsfs[python]<3.5.0,>=3.4.0->hopsworks->-r requirements.txt (line 3)) (14.0.1)\n",
      "Requirement already satisfied: confluent-kafka<=2.1.1 in /Users/kaidixu/opt/anaconda3/envs/myenv/lib/python3.8/site-packages (from hsfs[python]<3.5.0,>=3.4.0->hopsworks->-r requirements.txt (line 3)) (2.1.1)\n",
      "Requirement already satisfied: fastavro<=1.8.2,>=1.4.11 in /Users/kaidixu/opt/anaconda3/envs/myenv/lib/python3.8/site-packages (from hsfs[python]<3.5.0,>=3.4.0->hopsworks->-r requirements.txt (line 3)) (1.8.2)\n",
      "Requirement already satisfied: zipp>=0.5 in /Users/kaidixu/opt/anaconda3/envs/myenv/lib/python3.8/site-packages (from importlib-metadata>=3.6.0->modal->-r requirements.txt (line 8)) (3.11.0)\n",
      "Requirement already satisfied: appnope in /Users/kaidixu/opt/anaconda3/envs/myenv/lib/python3.8/site-packages (from ipykernel>=4.5.1->ipywidgets->-r requirements.txt (line 10)) (0.1.2)\n",
      "Requirement already satisfied: comm>=0.1.1 in /Users/kaidixu/opt/anaconda3/envs/myenv/lib/python3.8/site-packages (from ipykernel>=4.5.1->ipywidgets->-r requirements.txt (line 10)) (0.1.2)\n",
      "Requirement already satisfied: debugpy>=1.6.5 in /Users/kaidixu/opt/anaconda3/envs/myenv/lib/python3.8/site-packages (from ipykernel>=4.5.1->ipywidgets->-r requirements.txt (line 10)) (1.6.7)\n",
      "Requirement already satisfied: jupyter-client>=6.1.12 in /Users/kaidixu/opt/anaconda3/envs/myenv/lib/python3.8/site-packages (from ipykernel>=4.5.1->ipywidgets->-r requirements.txt (line 10)) (7.4.9)\n",
      "Requirement already satisfied: jupyter-core!=5.0.*,>=4.12 in /Users/kaidixu/opt/anaconda3/envs/myenv/lib/python3.8/site-packages (from ipykernel>=4.5.1->ipywidgets->-r requirements.txt (line 10)) (5.5.0)\n",
      "Requirement already satisfied: matplotlib-inline>=0.1 in /Users/kaidixu/opt/anaconda3/envs/myenv/lib/python3.8/site-packages (from ipykernel>=4.5.1->ipywidgets->-r requirements.txt (line 10)) (0.1.6)\n",
      "Requirement already satisfied: nest-asyncio in /Users/kaidixu/opt/anaconda3/envs/myenv/lib/python3.8/site-packages (from ipykernel>=4.5.1->ipywidgets->-r requirements.txt (line 10)) (1.5.6)\n",
      "Requirement already satisfied: psutil in /Users/kaidixu/opt/anaconda3/envs/myenv/lib/python3.8/site-packages (from ipykernel>=4.5.1->ipywidgets->-r requirements.txt (line 10)) (5.9.0)\n",
      "Requirement already satisfied: pyzmq>=20 in /Users/kaidixu/opt/anaconda3/envs/myenv/lib/python3.8/site-packages (from ipykernel>=4.5.1->ipywidgets->-r requirements.txt (line 10)) (23.2.0)\n",
      "Requirement already satisfied: tornado>=6.1 in /Users/kaidixu/opt/anaconda3/envs/myenv/lib/python3.8/site-packages (from ipykernel>=4.5.1->ipywidgets->-r requirements.txt (line 10)) (6.3.3)\n",
      "Requirement already satisfied: backcall in /Users/kaidixu/opt/anaconda3/envs/myenv/lib/python3.8/site-packages (from ipython>=6.1.0->ipywidgets->-r requirements.txt (line 10)) (0.2.0)\n",
      "Requirement already satisfied: decorator in /Users/kaidixu/opt/anaconda3/envs/myenv/lib/python3.8/site-packages (from ipython>=6.1.0->ipywidgets->-r requirements.txt (line 10)) (5.1.1)\n",
      "Requirement already satisfied: jedi>=0.16 in /Users/kaidixu/opt/anaconda3/envs/myenv/lib/python3.8/site-packages (from ipython>=6.1.0->ipywidgets->-r requirements.txt (line 10)) (0.18.1)\n",
      "Requirement already satisfied: pickleshare in /Users/kaidixu/opt/anaconda3/envs/myenv/lib/python3.8/site-packages (from ipython>=6.1.0->ipywidgets->-r requirements.txt (line 10)) (0.7.5)\n",
      "Requirement already satisfied: prompt-toolkit!=3.0.37,<3.1.0,>=3.0.30 in /Users/kaidixu/opt/anaconda3/envs/myenv/lib/python3.8/site-packages (from ipython>=6.1.0->ipywidgets->-r requirements.txt (line 10)) (3.0.36)\n",
      "Requirement already satisfied: pygments>=2.4.0 in /Users/kaidixu/opt/anaconda3/envs/myenv/lib/python3.8/site-packages (from ipython>=6.1.0->ipywidgets->-r requirements.txt (line 10)) (2.15.1)\n",
      "Requirement already satisfied: stack-data in /Users/kaidixu/opt/anaconda3/envs/myenv/lib/python3.8/site-packages (from ipython>=6.1.0->ipywidgets->-r requirements.txt (line 10)) (0.2.0)\n",
      "Requirement already satisfied: pexpect>4.3 in /Users/kaidixu/opt/anaconda3/envs/myenv/lib/python3.8/site-packages (from ipython>=6.1.0->ipywidgets->-r requirements.txt (line 10)) (4.8.0)\n"
     ]
    },
    {
     "name": "stdout",
     "output_type": "stream",
     "text": [
      "Requirement already satisfied: contourpy>=1.0.1 in /Users/kaidixu/opt/anaconda3/envs/myenv/lib/python3.8/site-packages (from matplotlib->gradio==3.14->-r requirements.txt (line 9)) (1.1.1)\n",
      "Requirement already satisfied: cycler>=0.10 in /Users/kaidixu/opt/anaconda3/envs/myenv/lib/python3.8/site-packages (from matplotlib->gradio==3.14->-r requirements.txt (line 9)) (0.12.1)\n",
      "Requirement already satisfied: fonttools>=4.22.0 in /Users/kaidixu/opt/anaconda3/envs/myenv/lib/python3.8/site-packages (from matplotlib->gradio==3.14->-r requirements.txt (line 9)) (4.44.1)\n",
      "Requirement already satisfied: kiwisolver>=1.0.1 in /Users/kaidixu/opt/anaconda3/envs/myenv/lib/python3.8/site-packages (from matplotlib->gradio==3.14->-r requirements.txt (line 9)) (1.4.4)\n",
      "Requirement already satisfied: importlib-resources>=3.2.0 in /Users/kaidixu/opt/anaconda3/envs/myenv/lib/python3.8/site-packages (from matplotlib->gradio==3.14->-r requirements.txt (line 9)) (6.1.0)\n",
      "Requirement already satisfied: bleach!=5.0.0 in /Users/kaidixu/opt/anaconda3/envs/myenv/lib/python3.8/site-packages (from nbconvert>=5->dataframe-image->-r requirements.txt (line 7)) (4.1.0)\n",
      "Requirement already satisfied: defusedxml in /Users/kaidixu/opt/anaconda3/envs/myenv/lib/python3.8/site-packages (from nbconvert>=5->dataframe-image->-r requirements.txt (line 7)) (0.7.1)\n",
      "Requirement already satisfied: jupyterlab-pygments in /Users/kaidixu/opt/anaconda3/envs/myenv/lib/python3.8/site-packages (from nbconvert>=5->dataframe-image->-r requirements.txt (line 7)) (0.1.2)\n",
      "Requirement already satisfied: nbclient>=0.5.0 in /Users/kaidixu/opt/anaconda3/envs/myenv/lib/python3.8/site-packages (from nbconvert>=5->dataframe-image->-r requirements.txt (line 7)) (0.8.0)\n",
      "Requirement already satisfied: pandocfilters>=1.4.1 in /Users/kaidixu/opt/anaconda3/envs/myenv/lib/python3.8/site-packages (from nbconvert>=5->dataframe-image->-r requirements.txt (line 7)) (1.5.0)\n",
      "Requirement already satisfied: tinycss2 in /Users/kaidixu/opt/anaconda3/envs/myenv/lib/python3.8/site-packages (from nbconvert>=5->dataframe-image->-r requirements.txt (line 7)) (1.2.1)\n",
      "Requirement already satisfied: charset-normalizer<4,>=2 in /Users/kaidixu/opt/anaconda3/envs/myenv/lib/python3.8/site-packages (from requests->gradio==3.14->-r requirements.txt (line 9)) (2.0.4)\n",
      "Requirement already satisfied: idna<4,>=2.5 in /Users/kaidixu/opt/anaconda3/envs/myenv/lib/python3.8/site-packages (from requests->gradio==3.14->-r requirements.txt (line 9)) (3.4)\n",
      "Requirement already satisfied: sigtools==4.0.1 in /Users/kaidixu/opt/anaconda3/envs/myenv/lib/python3.8/site-packages (from synchronicity~=0.5.3->modal->-r requirements.txt (line 8)) (4.0.1)\n",
      "Requirement already satisfied: attrs in /Users/kaidixu/opt/anaconda3/envs/myenv/lib/python3.8/site-packages (from sigtools==4.0.1->synchronicity~=0.5.3->modal->-r requirements.txt (line 8)) (23.1.0)\n",
      "Requirement already satisfied: yarl<2.0,>=1.0 in /Users/kaidixu/opt/anaconda3/envs/myenv/lib/python3.8/site-packages (from aiohttp->gradio==3.14->-r requirements.txt (line 9)) (1.9.2)\n",
      "Requirement already satisfied: frozenlist>=1.1.1 in /Users/kaidixu/opt/anaconda3/envs/myenv/lib/python3.8/site-packages (from aiohttp->gradio==3.14->-r requirements.txt (line 9)) (1.4.0)\n",
      "Requirement already satisfied: aiosignal>=1.1.2 in /Users/kaidixu/opt/anaconda3/envs/myenv/lib/python3.8/site-packages (from aiohttp->gradio==3.14->-r requirements.txt (line 9)) (1.3.1)\n",
      "Requirement already satisfied: async-timeout<5.0,>=4.0 in /Users/kaidixu/opt/anaconda3/envs/myenv/lib/python3.8/site-packages (from aiohttp->gradio==3.14->-r requirements.txt (line 9)) (4.0.3)\n",
      "Requirement already satisfied: soupsieve>1.2 in /Users/kaidixu/opt/anaconda3/envs/myenv/lib/python3.8/site-packages (from beautifulsoup4->dataframe-image->-r requirements.txt (line 7)) (2.5)\n",
      "Requirement already satisfied: botocore<1.32.0,>=1.31.85 in /Users/kaidixu/opt/anaconda3/envs/myenv/lib/python3.8/site-packages (from boto3->hopsworks->-r requirements.txt (line 3)) (1.31.85)\n",
      "Requirement already satisfied: jmespath<2.0.0,>=0.7.1 in /Users/kaidixu/opt/anaconda3/envs/myenv/lib/python3.8/site-packages (from boto3->hopsworks->-r requirements.txt (line 3)) (1.0.1)\n",
      "Requirement already satisfied: s3transfer<0.8.0,>=0.7.0 in /Users/kaidixu/opt/anaconda3/envs/myenv/lib/python3.8/site-packages (from boto3->hopsworks->-r requirements.txt (line 3)) (0.7.0)\n",
      "Requirement already satisfied: anyio<4.0.0,>=3.7.1 in /Users/kaidixu/opt/anaconda3/envs/myenv/lib/python3.8/site-packages (from fastapi->gradio==3.14->-r requirements.txt (line 9)) (3.7.1)\n",
      "Requirement already satisfied: starlette<0.28.0,>=0.27.0 in /Users/kaidixu/opt/anaconda3/envs/myenv/lib/python3.8/site-packages (from fastapi->gradio==3.14->-r requirements.txt (line 9)) (0.27.0)\n",
      "Requirement already satisfied: annotated-types>=0.4.0 in /Users/kaidixu/opt/anaconda3/envs/myenv/lib/python3.8/site-packages (from pydantic->gradio==3.14->-r requirements.txt (line 9)) (0.6.0)\n",
      "Requirement already satisfied: pydantic-core==2.14.3 in /Users/kaidixu/opt/anaconda3/envs/myenv/lib/python3.8/site-packages (from pydantic->gradio==3.14->-r requirements.txt (line 9)) (2.14.3)\n",
      "Requirement already satisfied: six>=1.8.0 in /Users/kaidixu/opt/anaconda3/envs/myenv/lib/python3.8/site-packages (from furl->hopsworks->-r requirements.txt (line 3)) (1.16.0)\n",
      "Requirement already satisfied: orderedmultidict>=1.0.1 in /Users/kaidixu/opt/anaconda3/envs/myenv/lib/python3.8/site-packages (from furl->hopsworks->-r requirements.txt (line 3)) (1.0.1)\n",
      "Requirement already satisfied: websocket-client<2.0.0,>=1.0.0 in /Users/kaidixu/opt/anaconda3/envs/myenv/lib/python3.8/site-packages (from html2image->dataframe-image->-r requirements.txt (line 7)) (1.6.4)\n",
      "Collecting httpcore==1.* (from httpx->gradio==3.14->-r requirements.txt (line 9))\n",
      "  Downloading httpcore-1.0.2-py3-none-any.whl.metadata (20 kB)\n",
      "Requirement already satisfied: sniffio in /Users/kaidixu/opt/anaconda3/envs/myenv/lib/python3.8/site-packages (from httpx->gradio==3.14->-r requirements.txt (line 9)) (1.2.0)\n",
      "Collecting h11<0.15,>=0.13 (from httpcore==1.*->httpx->gradio==3.14->-r requirements.txt (line 9))\n",
      "  Downloading h11-0.14.0-py3-none-any.whl (58 kB)\n",
      "\u001b[2K     \u001b[90m━━━━━━━━━━━━━━━━━━━━━━━━━━━━━━━━━━━━━━━\u001b[0m \u001b[32m58.3/58.3 kB\u001b[0m \u001b[31m807.4 kB/s\u001b[0m eta \u001b[36m0:00:00\u001b[0m \u001b[36m0:00:01\u001b[0mm\n",
      "\u001b[?25hRequirement already satisfied: mdurl~=0.1 in /Users/kaidixu/opt/anaconda3/envs/myenv/lib/python3.8/site-packages (from markdown-it-py[linkify,plugins]->gradio==3.14->-r requirements.txt (line 9)) (0.1.2)\n",
      "Collecting mdit-py-plugins (from markdown-it-py[linkify,plugins]->gradio==3.14->-r requirements.txt (line 9))\n",
      "  Downloading mdit_py_plugins-0.4.0-py3-none-any.whl.metadata (2.7 kB)\n",
      "Collecting linkify-it-py<3,>=1 (from markdown-it-py[linkify,plugins]->gradio==3.14->-r requirements.txt (line 9))\n",
      "  Downloading linkify_it_py-2.0.2-py3-none-any.whl (19 kB)\n",
      "Requirement already satisfied: javaobj-py3 in /Users/kaidixu/opt/anaconda3/envs/myenv/lib/python3.8/site-packages (from pyjks->hopsworks->-r requirements.txt (line 3)) (0.4.3)\n",
      "Requirement already satisfied: pyasn1>=0.3.5 in /Users/kaidixu/opt/anaconda3/envs/myenv/lib/python3.8/site-packages (from pyjks->hopsworks->-r requirements.txt (line 3)) (0.5.0)\n",
      "Requirement already satisfied: pyasn1-modules in /Users/kaidixu/opt/anaconda3/envs/myenv/lib/python3.8/site-packages (from pyjks->hopsworks->-r requirements.txt (line 3)) (0.3.0)\n",
      "Requirement already satisfied: pycryptodomex in /Users/kaidixu/opt/anaconda3/envs/myenv/lib/python3.8/site-packages (from pyjks->hopsworks->-r requirements.txt (line 3)) (3.19.0)\n",
      "Requirement already satisfied: twofish in /Users/kaidixu/opt/anaconda3/envs/myenv/lib/python3.8/site-packages (from pyjks->hopsworks->-r requirements.txt (line 3)) (0.3.0)\n",
      "Requirement already satisfied: exceptiongroup in /Users/kaidixu/opt/anaconda3/envs/myenv/lib/python3.8/site-packages (from anyio<4.0.0,>=3.7.1->fastapi->gradio==3.14->-r requirements.txt (line 9)) (1.1.3)\n",
      "Requirement already satisfied: webencodings in /Users/kaidixu/opt/anaconda3/envs/myenv/lib/python3.8/site-packages (from bleach!=5.0.0->nbconvert>=5->dataframe-image->-r requirements.txt (line 7)) (0.5.1)\n",
      "Requirement already satisfied: hyperframe<7,>=6.0 in /Users/kaidixu/opt/anaconda3/envs/myenv/lib/python3.8/site-packages (from h2<5,>=3.1.0->grpclib==0.4.3->modal->-r requirements.txt (line 8)) (6.0.1)\n",
      "Requirement already satisfied: hpack<5,>=4.0 in /Users/kaidixu/opt/anaconda3/envs/myenv/lib/python3.8/site-packages (from h2<5,>=3.1.0->grpclib==0.4.3->modal->-r requirements.txt (line 8)) (4.0.0)\n",
      "Requirement already satisfied: parso<0.9.0,>=0.8.0 in /Users/kaidixu/opt/anaconda3/envs/myenv/lib/python3.8/site-packages (from jedi>=0.16->ipython>=6.1.0->ipywidgets->-r requirements.txt (line 10)) (0.8.3)\n"
     ]
    },
    {
     "name": "stdout",
     "output_type": "stream",
     "text": [
      "Requirement already satisfied: jsonschema-specifications>=2023.03.6 in /Users/kaidixu/opt/anaconda3/envs/myenv/lib/python3.8/site-packages (from jsonschema>=2.5.1->great-expectations==0.14.13->hsfs<3.5.0,>=3.4.0->hsfs[python]<3.5.0,>=3.4.0->hopsworks->-r requirements.txt (line 3)) (2023.7.1)\n",
      "Requirement already satisfied: pkgutil-resolve-name>=1.3.10 in /Users/kaidixu/opt/anaconda3/envs/myenv/lib/python3.8/site-packages (from jsonschema>=2.5.1->great-expectations==0.14.13->hsfs<3.5.0,>=3.4.0->hsfs[python]<3.5.0,>=3.4.0->hopsworks->-r requirements.txt (line 3)) (1.3.10)\n",
      "Requirement already satisfied: referencing>=0.28.4 in /Users/kaidixu/opt/anaconda3/envs/myenv/lib/python3.8/site-packages (from jsonschema>=2.5.1->great-expectations==0.14.13->hsfs<3.5.0,>=3.4.0->hsfs[python]<3.5.0,>=3.4.0->hopsworks->-r requirements.txt (line 3)) (0.30.2)\n",
      "Requirement already satisfied: rpds-py>=0.7.1 in /Users/kaidixu/opt/anaconda3/envs/myenv/lib/python3.8/site-packages (from jsonschema>=2.5.1->great-expectations==0.14.13->hsfs<3.5.0,>=3.4.0->hsfs[python]<3.5.0,>=3.4.0->hopsworks->-r requirements.txt (line 3)) (0.10.6)\n",
      "Requirement already satisfied: platformdirs>=2.5 in /Users/kaidixu/opt/anaconda3/envs/myenv/lib/python3.8/site-packages (from jupyter-core!=5.0.*,>=4.12->ipykernel>=4.5.1->ipywidgets->-r requirements.txt (line 10)) (3.10.0)\n",
      "Collecting uc-micro-py (from linkify-it-py<3,>=1->markdown-it-py[linkify,plugins]->gradio==3.14->-r requirements.txt (line 9))\n",
      "  Downloading uc_micro_py-1.0.2-py3-none-any.whl (6.2 kB)\n",
      "Requirement already satisfied: fastjsonschema in /Users/kaidixu/opt/anaconda3/envs/myenv/lib/python3.8/site-packages (from nbformat>=5.0->great-expectations==0.14.13->hsfs<3.5.0,>=3.4.0->hsfs[python]<3.5.0,>=3.4.0->hopsworks->-r requirements.txt (line 3)) (2.16.2)\n",
      "Requirement already satisfied: ptyprocess>=0.5 in /Users/kaidixu/opt/anaconda3/envs/myenv/lib/python3.8/site-packages (from pexpect>4.3->ipython>=6.1.0->ipywidgets->-r requirements.txt (line 10)) (0.7.0)\n",
      "Requirement already satisfied: wcwidth in /Users/kaidixu/opt/anaconda3/envs/myenv/lib/python3.8/site-packages (from prompt-toolkit!=3.0.37,<3.1.0,>=3.0.30->ipython>=6.1.0->ipywidgets->-r requirements.txt (line 10)) (0.2.5)\n",
      "Requirement already satisfied: backports.zoneinfo in /Users/kaidixu/opt/anaconda3/envs/myenv/lib/python3.8/site-packages (from tzlocal->hsfs<3.5.0,>=3.4.0->hsfs[python]<3.5.0,>=3.4.0->hopsworks->-r requirements.txt (line 3)) (0.2.1)\n",
      "Requirement already satisfied: future in /Users/kaidixu/opt/anaconda3/envs/myenv/lib/python3.8/site-packages (from pyhopshive[thrift]; extra == \"python\"->hsfs[python]<3.5.0,>=3.4.0->hopsworks->-r requirements.txt (line 3)) (0.18.3)\n",
      "Requirement already satisfied: thrift>=0.10.0 in /Users/kaidixu/opt/anaconda3/envs/myenv/lib/python3.8/site-packages (from pyhopshive[thrift]; extra == \"python\"->hsfs[python]<3.5.0,>=3.4.0->hopsworks->-r requirements.txt (line 3)) (0.16.0)\n",
      "Requirement already satisfied: greenlet!=0.4.17 in /Users/kaidixu/opt/anaconda3/envs/myenv/lib/python3.8/site-packages (from sqlalchemy->hsfs<3.5.0,>=3.4.0->hsfs[python]<3.5.0,>=3.4.0->hopsworks->-r requirements.txt (line 3)) (3.0.1)\n",
      "Requirement already satisfied: executing in /Users/kaidixu/opt/anaconda3/envs/myenv/lib/python3.8/site-packages (from stack-data->ipython>=6.1.0->ipywidgets->-r requirements.txt (line 10)) (0.8.3)\n",
      "Requirement already satisfied: asttokens in /Users/kaidixu/opt/anaconda3/envs/myenv/lib/python3.8/site-packages (from stack-data->ipython>=6.1.0->ipywidgets->-r requirements.txt (line 10)) (2.0.5)\n",
      "Requirement already satisfied: pure-eval in /Users/kaidixu/opt/anaconda3/envs/myenv/lib/python3.8/site-packages (from stack-data->ipython>=6.1.0->ipywidgets->-r requirements.txt (line 10)) (0.2.2)\n",
      "Requirement already satisfied: cffi>=1.12 in /Users/kaidixu/opt/anaconda3/envs/myenv/lib/python3.8/site-packages (from cryptography>=3.2->great-expectations==0.14.13->hsfs<3.5.0,>=3.4.0->hsfs[python]<3.5.0,>=3.4.0->hopsworks->-r requirements.txt (line 3)) (1.15.1)\n",
      "Requirement already satisfied: jsonpointer>=1.9 in /Users/kaidixu/opt/anaconda3/envs/myenv/lib/python3.8/site-packages (from jsonpatch>=1.22->great-expectations==0.14.13->hsfs<3.5.0,>=3.4.0->hsfs[python]<3.5.0,>=3.4.0->hopsworks->-r requirements.txt (line 3)) (2.4)\n",
      "Requirement already satisfied: ruamel.yaml.clib>=0.1.2 in /Users/kaidixu/opt/anaconda3/envs/myenv/lib/python3.8/site-packages (from ruamel.yaml<0.17.18,>=0.16->great-expectations==0.14.13->hsfs<3.5.0,>=3.4.0->hsfs[python]<3.5.0,>=3.4.0->hopsworks->-r requirements.txt (line 3)) (0.2.8)\n",
      "Requirement already satisfied: pycparser in /Users/kaidixu/opt/anaconda3/envs/myenv/lib/python3.8/site-packages (from cffi>=1.12->cryptography>=3.2->great-expectations==0.14.13->hsfs<3.5.0,>=3.4.0->hsfs[python]<3.5.0,>=3.4.0->hopsworks->-r requirements.txt (line 3)) (2.21)\n",
      "Downloading matplotlib-3.7.4-cp38-cp38-macosx_10_12_x86_64.whl (7.4 MB)\n",
      "\u001b[2K   \u001b[90m━━━━━━━━━━━━━━━━━━━━━━━━━━━━━━━━━━━━━━━━\u001b[0m \u001b[32m7.4/7.4 MB\u001b[0m \u001b[31m1.1 MB/s\u001b[0m eta \u001b[36m0:00:00\u001b[0m00:01\u001b[0m00:01\u001b[0m0m\n",
      "\u001b[?25hDownloading websockets-12.0-cp38-cp38-macosx_10_9_x86_64.whl (121 kB)\n",
      "\u001b[2K   \u001b[90m━━━━━━━━━━━━━━━━━━━━━━━━━━━━━━━━━━━━━━━\u001b[0m \u001b[32m121.3/121.3 kB\u001b[0m \u001b[31m631.8 kB/s\u001b[0m eta \u001b[36m0:00:00\u001b[0ma \u001b[36m0:00:01\u001b[0m\n",
      "\u001b[?25hDownloading httpx-0.26.0-py3-none-any.whl (75 kB)\n",
      "\u001b[2K   \u001b[90m━━━━━━━━━━━━━━━━━━━━━━━━━━━━━━━━━━━━━━━━\u001b[0m \u001b[32m75.9/75.9 kB\u001b[0m \u001b[31m1.2 MB/s\u001b[0m eta \u001b[36m0:00:00\u001b[0ma \u001b[36m0:00:01\u001b[0m\n",
      "\u001b[?25hDownloading httpcore-1.0.2-py3-none-any.whl (76 kB)\n",
      "\u001b[2K   \u001b[90m━━━━━━━━━━━━━━━━━━━━━━━━━━━━━━━━━━━━━━━━\u001b[0m \u001b[32m76.9/76.9 kB\u001b[0m \u001b[31m753.8 kB/s\u001b[0m eta \u001b[36m0:00:00\u001b[0m\u001b[36m0:00:01\u001b[0m0m\n",
      "\u001b[?25hDownloading orjson-3.9.10-cp38-cp38-macosx_10_15_x86_64.macosx_11_0_arm64.macosx_10_15_universal2.whl (241 kB)\n",
      "\u001b[2K   \u001b[90m━━━━━━━━━━━━━━━━━━━━━━━━━━━━━━━━━━━━━━━━\u001b[0m \u001b[32m241.5/241.5 kB\u001b[0m \u001b[31m1.0 MB/s\u001b[0m eta \u001b[36m0:00:00\u001b[0ma \u001b[36m0:00:01\u001b[0m\n",
      "\u001b[?25hDownloading pycryptodome-3.19.1-cp35-abi3-macosx_10_9_x86_64.whl (1.6 MB)\n",
      "\u001b[2K   \u001b[90m━━━━━━━━━━━━━━━━━━━━━━━━━━━━━━━━━━━━━━━━\u001b[0m \u001b[32m1.6/1.6 MB\u001b[0m \u001b[31m1.0 MB/s\u001b[0m eta \u001b[36m0:00:00\u001b[0m00:01\u001b[0m00:01\u001b[0m\n",
      "\u001b[?25hDownloading uvicorn-0.25.0-py3-none-any.whl (60 kB)\n",
      "\u001b[2K   \u001b[90m━━━━━━━━━━━━━━━━━━━━━━━━━━━━━━━━━━━━━━━━\u001b[0m \u001b[32m60.3/60.3 kB\u001b[0m \u001b[31m711.5 kB/s\u001b[0m eta \u001b[36m0:00:00\u001b[0m\u001b[36m0:00:01\u001b[0m\n",
      "\u001b[?25hDownloading mdit_py_plugins-0.4.0-py3-none-any.whl (54 kB)\n",
      "\u001b[2K   \u001b[90m━━━━━━━━━━━━━━━━━━━━━━━━━━━━━━━━━━━━━━━━\u001b[0m \u001b[32m54.1/54.1 kB\u001b[0m \u001b[31m661.9 kB/s\u001b[0m eta \u001b[36m0:00:00\u001b[0m\u001b[36m0:00:01\u001b[0m\n",
      "\u001b[?25hBuilding wheels for collected packages: ffmpy\n",
      "  Building wheel for ffmpy (setup.py) ... \u001b[?25ldone\n",
      "\u001b[?25h  Created wheel for ffmpy: filename=ffmpy-0.3.1-py3-none-any.whl size=5579 sha256=0807c5913e180ca9ca381af2dddfb2ed0ac0b188a949b75426450f7ebec38572\n",
      "  Stored in directory: /Users/kaidixu/Library/Caches/pip/wheels/75/a3/1a/2f3f90b9a4eb0408109ae1b5bae01efbdf8ab4ef98797433e4\n",
      "Successfully built ffmpy\n",
      "Installing collected packages: pydub, ffmpy, websockets, uc-micro-py, python-multipart, pycryptodome, orjson, h11, uvicorn, scikit-learn, mdit-py-plugins, matplotlib, linkify-it-py, httpcore, httpx, gradio\n",
      "  Attempting uninstall: scikit-learn\n",
      "    Found existing installation: scikit-learn 1.3.2\n",
      "    Uninstalling scikit-learn-1.3.2:\n",
      "      Successfully uninstalled scikit-learn-1.3.2\n",
      "  Attempting uninstall: matplotlib\n",
      "    Found existing installation: matplotlib 3.2.2\n",
      "    Uninstalling matplotlib-3.2.2:\n",
      "      Successfully uninstalled matplotlib-3.2.2\n",
      "Successfully installed ffmpy-0.3.1 gradio-3.14.0 h11-0.14.0 httpcore-1.0.2 httpx-0.26.0 linkify-it-py-2.0.2 matplotlib-3.7.3 mdit-py-plugins-0.4.0 orjson-3.9.10 pycryptodome-3.19.1 pydub-0.25.1 python-multipart-0.0.6 scikit-learn-1.2.2 uc-micro-py-1.0.2 uvicorn-0.25.0 websockets-12.0\n",
      "Note: you may need to restart the kernel to use updated packages.\n"
     ]
    }
   ],
   "source": [
    "%pip install -r requirements.txt"
   ]
  },
  {
   "cell_type": "code",
   "execution_count": 2,
   "id": "9fbfc13b",
   "metadata": {},
   "outputs": [],
   "source": [
    "import hopsworks\n",
    "from datetime import datetime, timedelta\n",
    "import pandas as pd\n",
    "import numpy as np"
   ]
  },
  {
   "cell_type": "code",
   "execution_count": 3,
   "id": "158a2104",
   "metadata": {},
   "outputs": [
    {
     "name": "stdout",
     "output_type": "stream",
     "text": [
      "Connected. Call `.close()` to terminate connection gracefully.\n",
      "\n",
      "Logged in to project, explore it here https://c.app.hopsworks.ai:443/p/194726\n",
      "Connected. Call `.close()` to terminate connection gracefully.\n"
     ]
    }
   ],
   "source": [
    "# Connect to Hopsworks\n",
    "project = hopsworks.login()\n",
    "fs = project.get_feature_store()"
   ]
  },
  {
   "cell_type": "code",
   "execution_count": 4,
   "id": "4f36a10e",
   "metadata": {},
   "outputs": [],
   "source": [
    "# Load traffic and weather datasets\n",
    "traffic_train = pd.read_csv('traffic_trainset_hour.csv')\n",
    "weather_train = pd.read_csv('weather_trainset.csv')"
   ]
  },
  {
   "cell_type": "code",
   "execution_count": 5,
   "id": "6ccb210d",
   "metadata": {},
   "outputs": [
    {
     "name": "stdout",
     "output_type": "stream",
     "text": [
      "Feature Group created successfully, explore it at \n",
      "https://c.app.hopsworks.ai:443/p/194726/fs/194645/fg/376151\n"
     ]
    },
    {
     "name": "stderr",
     "output_type": "stream",
     "text": [
      "DeprecationWarning: The `ipykernel.comm.Comm` class has been deprecated. Please use the `comm` module instead.For creating comms, use the function `from comm import create_comm`.\n"
     ]
    },
    {
     "data": {
      "application/vnd.jupyter.widget-view+json": {
       "model_id": "a935bb0e6ff54f4ca3c5083370695582",
       "version_major": 2,
       "version_minor": 0
      },
      "text/plain": [
       "Uploading Dataframe: 0.00% |          | Rows 0/48 | Elapsed Time: 00:00 | Remaining Time: ?"
      ]
     },
     "metadata": {},
     "output_type": "display_data"
    },
    {
     "name": "stdout",
     "output_type": "stream",
     "text": [
      "Launching job: traffic_feature_group_1_offline_fg_materialization\n",
      "Job started successfully, you can follow the progress at \n",
      "https://c.app.hopsworks.ai/p/194726/jobs/named/traffic_feature_group_1_offline_fg_materialization/executions\n",
      "Feature Group created successfully, explore it at \n",
      "https://c.app.hopsworks.ai:443/p/194726/fs/194645/fg/377168\n"
     ]
    },
    {
     "data": {
      "application/vnd.jupyter.widget-view+json": {
       "model_id": "c3969f41932845e6a6914cecc7233f39",
       "version_major": 2,
       "version_minor": 0
      },
      "text/plain": [
       "Uploading Dataframe: 0.00% |          | Rows 0/48 | Elapsed Time: 00:00 | Remaining Time: ?"
      ]
     },
     "metadata": {},
     "output_type": "display_data"
    },
    {
     "name": "stdout",
     "output_type": "stream",
     "text": [
      "Launching job: weather_feature_group_1_offline_fg_materialization\n",
      "Job started successfully, you can follow the progress at \n",
      "https://c.app.hopsworks.ai/p/194726/jobs/named/weather_feature_group_1_offline_fg_materialization/executions\n"
     ]
    },
    {
     "data": {
      "text/plain": [
       "(<hsfs.core.job.Job at 0x7fc940129580>, None)"
      ]
     },
     "execution_count": 5,
     "metadata": {},
     "output_type": "execute_result"
    }
   ],
   "source": [
    "# Insert DataFrames into Feature Groups\n",
    "traffic_fg = fs.create_feature_group(name='traffic_feature_group',\n",
    "                                     version=1,\n",
    "                                     description='Feature group for traffic data',\n",
    "                                     primary_key=['day', 'hour'])\n",
    "\n",
    "weather_fg = fs.create_feature_group(name='weather_feature_group',\n",
    "                                     version=1,\n",
    "                                     description='Feature group for weather data',\n",
    "                                     primary_key=['day', 'hour'])\n",
    "\n",
    "traffic_fg.insert(traffic_train)\n",
    "weather_fg.insert(weather_train)\n"
   ]
  },
  {
   "cell_type": "code",
   "execution_count": 8,
   "id": "8b05cfa6",
   "metadata": {},
   "outputs": [],
   "source": [
    "# Join traffic and weather data in feature groups on [day, hour]\n",
    "merged_data = traffic_fg.select_all().join(weather_fg.select_all(), on=['day', 'hour'])"
   ]
  },
  {
   "cell_type": "code",
   "execution_count": 9,
   "id": "dffcdcc3",
   "metadata": {},
   "outputs": [
    {
     "name": "stdout",
     "output_type": "stream",
     "text": [
      "Feature view created successfully, explore it at \n",
      "https://c.app.hopsworks.ai:443/p/194726/fs/194645/fv/merged_trainset/version/1\n"
     ]
    }
   ],
   "source": [
    "# Create a feature view for the merged data\n",
    "merged_fv = fs.get_or_create_feature_view(\n",
    "    name='merged_trainset',\n",
    "    query=merged_data,\n",
    "    version=1,\n",
    "    labels=['current_speed']\n",
    ")\n"
   ]
  },
  {
   "cell_type": "code",
   "execution_count": null,
   "id": "8008abfb",
   "metadata": {},
   "outputs": [],
   "source": []
  }
 ],
 "metadata": {
  "kernelspec": {
   "display_name": "Python 3 (ipykernel)",
   "language": "python",
   "name": "python3"
  },
  "language_info": {
   "codemirror_mode": {
    "name": "ipython",
    "version": 3
   },
   "file_extension": ".py",
   "mimetype": "text/x-python",
   "name": "python",
   "nbconvert_exporter": "python",
   "pygments_lexer": "ipython3",
   "version": "3.8.18"
  }
 },
 "nbformat": 4,
 "nbformat_minor": 5
}

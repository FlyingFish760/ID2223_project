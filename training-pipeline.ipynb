{
 "cells": [
  {
   "cell_type": "code",
   "execution_count": 22,
   "id": "bbe814e2",
   "metadata": {},
   "outputs": [],
   "source": [
    "import hopsworks\n",
    "import pandas as pd\n",
    "from sklearn.neighbors import KNeighborsRegressor\n",
    "from sklearn.metrics import classification_report\n",
    "from sklearn.model_selection import train_test_split\n",
    "from sklearn.metrics import mean_squared_error, r2_score\n",
    "from sklearn.linear_model import LinearRegression\n",
    "from sklearn.ensemble import AdaBoostRegressor\n",
    "from xgboost import XGBRegressor\n",
    "from matplotlib import pyplot\n",
    "from hsml.schema import Schema\n",
    "from hsml.model_schema import ModelSchema\n",
    "import json\n",
    "import joblib\n",
    "import os"
   ]
  },
  {
   "cell_type": "code",
   "execution_count": 4,
   "id": "ce1c173d",
   "metadata": {},
   "outputs": [
    {
     "name": "stdout",
     "output_type": "stream",
     "text": [
      "Connected. Call `.close()` to terminate connection gracefully.\n",
      "\n",
      "Logged in to project, explore it here https://c.app.hopsworks.ai:443/p/194726\n",
      "Connected. Call `.close()` to terminate connection gracefully.\n"
     ]
    }
   ],
   "source": [
    "project = hopsworks.login()\n",
    "fs = project.get_feature_store()"
   ]
  },
  {
   "cell_type": "code",
   "execution_count": 14,
   "id": "ec612ae7",
   "metadata": {},
   "outputs": [],
   "source": [
    "# Set HDFS paths for the datasets\n",
    "traffic_trainset_path = 'traffic_trainset_hour.csv'\n",
    "weather_trainset_path = 'weather_trainset.csv'\n",
    "traffic_testset_path = 'traffic_testset.csv'\n",
    "weather_testset_path = 'weather_testset.csv'\n",
    "\n",
    "# Load datasets\n",
    "traffic_train = pd.read_csv(traffic_trainset_path)\n",
    "weather_train = pd.read_csv(weather_trainset_path)\n",
    "traffic_test = pd.read_csv(traffic_testset_path)\n",
    "weather_test = pd.read_csv(weather_testset_path)"
   ]
  },
  {
   "cell_type": "code",
   "execution_count": 16,
   "id": "71bb65bb",
   "metadata": {},
   "outputs": [],
   "source": [
    "# Join training datasets on ['day', 'hour']\n",
    "\n",
    "training_data = pd.merge(traffic_train, weather_train, on=['day', 'hour'])\n",
    "\n",
    "# Join test datasets on ['day', 'hour']\n",
    "\n",
    "test_data = pd.merge(traffic_test, weather_test, on=['day', 'hour'])"
   ]
  },
  {
   "cell_type": "code",
   "execution_count": 17,
   "id": "b1e4ecf0",
   "metadata": {},
   "outputs": [],
   "source": [
    "# Split data into features (X) and target variable (y)\n",
    "\n",
    "X_train = training_data.drop('current_speed', axis=1)\n",
    "y_train = training_data['current_speed']\n",
    "\n",
    "X_test = test_data.drop('current_speed', axis=1)\n",
    "y_test = test_data['current_speed']"
   ]
  },
  {
   "cell_type": "code",
   "execution_count": 18,
   "id": "135b3d09",
   "metadata": {},
   "outputs": [],
   "source": [
    "# Model training and evaluation\n",
    "\n",
    "# K-Nearest Neighbors\n",
    "knn_model = KNeighborsRegressor()\n",
    "knn_model.fit(X_train, y_train)\n",
    "knn_predictions = knn_model.predict(X_test)\n",
    "knn_rmse = mean_squared_error(y_test, knn_predictions, squared=False)\n",
    "knn_r2 = r2_score(y_test, knn_predictions)\n",
    "\n",
    "# Linear Regression\n",
    "lr_model = LinearRegression()\n",
    "lr_model.fit(X_train, y_train)\n",
    "lr_predictions = lr_model.predict(X_test)\n",
    "lr_rmse = mean_squared_error(y_test, lr_predictions, squared=False)\n",
    "lr_r2 = r2_score(y_test, lr_predictions)\n",
    "\n",
    "# AdaBoost Regression\n",
    "ada_model = AdaBoostRegressor()\n",
    "ada_model.fit(X_train, y_train)\n",
    "ada_predictions = ada_model.predict(X_test)\n",
    "ada_rmse = mean_squared_error(y_test, ada_predictions, squared=False)\n",
    "ada_r2 = r2_score(y_test, ada_predictions)\n",
    "\n",
    "# XGBoost Regression\n",
    "xgb_model = XGBRegressor()\n",
    "xgb_model.fit(X_train, y_train)\n",
    "xgb_predictions = xgb_model.predict(X_test)\n",
    "xgb_rmse = mean_squared_error(y_test, xgb_predictions, squared=False)\n",
    "xgb_r2 = r2_score(y_test, xgb_predictions)"
   ]
  },
  {
   "cell_type": "code",
   "execution_count": 19,
   "id": "1da4f2a5",
   "metadata": {},
   "outputs": [
    {
     "name": "stdout",
     "output_type": "stream",
     "text": [
      "Model Comparison:\n",
      "                 Model       RMSE  R2 Score\n",
      "0                  KNN   3.259601  0.600287\n",
      "1    Linear Regression  11.708483 -4.157274\n",
      "2  AdaBoost Regression   3.406479  0.563454\n",
      "3   XGBoost Regression   3.623314  0.506109\n",
      "\n",
      "Best Model:\n",
      "Model            KNN\n",
      "RMSE        3.259601\n",
      "R2 Score    0.600287\n",
      "Name: 0, dtype: object\n"
     ]
    }
   ],
   "source": [
    "# Model comparison\n",
    "\n",
    "model_metrics = pd.DataFrame({\n",
    "    'Model': ['KNN', 'Linear Regression', 'AdaBoost Regression', 'XGBoost Regression'],\n",
    "    'RMSE': [knn_rmse, lr_rmse, ada_rmse, xgb_rmse],\n",
    "    'R2 Score': [knn_r2, lr_r2, ada_r2, xgb_r2]\n",
    "})\n",
    "\n",
    "best_model = model_metrics.loc[model_metrics['RMSE'].idxmin()]\n",
    "\n",
    "print(\"Model Comparison:\")\n",
    "print(model_metrics)\n",
    "print(\"\\nBest Model:\")\n",
    "print(best_model)"
   ]
  },
  {
   "cell_type": "code",
   "execution_count": 23,
   "id": "4750f6a3",
   "metadata": {},
   "outputs": [
    {
     "name": "stdout",
     "output_type": "stream",
     "text": [
      "Connected. Call `.close()` to terminate connection gracefully.\n",
      "Model and metrics saved to: traffic_weather_model\n"
     ]
    }
   ],
   "source": [
    "# Save the KNN model and performance metrics to a directory\n",
    "mr = project.get_model_registry()\n",
    "\n",
    "# Create a directory for the model\n",
    "model_dir=\"traffic_weather_model\"\n",
    "if os.path.isdir(model_dir) == False:\n",
    "    os.mkdir(model_dir)\n",
    "\n",
    "# Save KNN model\n",
    "knn_model_path = model_dir + '/knn_model.joblib'\n",
    "joblib.dump(knn_model, knn_model_path)\n",
    "\n",
    "# Save performance metrics\n",
    "metrics_path = model_dir + '/model_metrics.json'\n",
    "model_metrics.to_json(metrics_path, orient='records')\n",
    "\n",
    "print(\"Model and metrics saved to:\", model_dir)\n"
   ]
  },
  {
   "cell_type": "code",
   "execution_count": 26,
   "id": "45996b8a",
   "metadata": {},
   "outputs": [
    {
     "name": "stderr",
     "output_type": "stream",
     "text": [
      "DeprecationWarning: The `ipykernel.comm.Comm` class has been deprecated. Please use the `comm` module instead.For creating comms, use the function `from comm import create_comm`.\n"
     ]
    },
    {
     "data": {
      "application/vnd.jupyter.widget-view+json": {
       "model_id": "d09340c6e80040a9bd9972427ead2817",
       "version_major": 2,
       "version_minor": 0
      },
      "text/plain": [
       "  0%|          | 0/6 [00:00<?, ?it/s]"
      ]
     },
     "metadata": {},
     "output_type": "display_data"
    },
    {
     "data": {
      "application/vnd.jupyter.widget-view+json": {
       "model_id": "2c1f4fbfe22642e6a5f0beacc4cd5264",
       "version_major": 2,
       "version_minor": 0
      },
      "text/plain": [
       "Uploading: 0.000%|          | 0/288 elapsed<00:00 remaining<?"
      ]
     },
     "metadata": {},
     "output_type": "display_data"
    },
    {
     "data": {
      "application/vnd.jupyter.widget-view+json": {
       "model_id": "d23d5de96fb94e8bb39c896f4f96332f",
       "version_major": 2,
       "version_minor": 0
      },
      "text/plain": [
       "Uploading: 0.000%|          | 0/11190 elapsed<00:00 remaining<?"
      ]
     },
     "metadata": {},
     "output_type": "display_data"
    },
    {
     "data": {
      "application/vnd.jupyter.widget-view+json": {
       "model_id": "c47ca478a47341f194d93d98315d0c50",
       "version_major": 2,
       "version_minor": 0
      },
      "text/plain": [
       "Uploading: 0.000%|          | 0/931 elapsed<00:00 remaining<?"
      ]
     },
     "metadata": {},
     "output_type": "display_data"
    },
    {
     "name": "stdout",
     "output_type": "stream",
     "text": [
      "Model created, explore it at https://c.app.hopsworks.ai:443/p/194726/models/traffic_weather_model/1\n"
     ]
    },
    {
     "data": {
      "text/plain": [
       "Model(name: 'traffic_weather_model', version: 1)"
      ]
     },
     "execution_count": 26,
     "metadata": {},
     "output_type": "execute_result"
    }
   ],
   "source": [
    "# Specify the schema of the model's input/output using the features (X_train) and labels (y_train)\n",
    "input_schema = Schema(X_train)\n",
    "output_schema = Schema(y_train)\n",
    "model_schema = ModelSchema(input_schema, output_schema)\n",
    "\n",
    "# Create an entry in the model registry\n",
    "\n",
    "traffic_weather_model = mr.python.create_model(\n",
    "    name=\"traffic_weather_model\", \n",
    "    metrics={\n",
    "        'RMSE': float(best_model['RMSE']),\n",
    "        'R2 Score': float(best_model['R2 Score'])},\n",
    "    model_schema=model_schema,\n",
    "    description=\"Traffic Flow Predictor\"\n",
    ")\n",
    "             \n",
    "             \n",
    "# Upload the model to the model registry, including all files in 'model_dir'\n",
    "traffic_weather_model.save(model_dir)"
   ]
  },
  {
   "cell_type": "code",
   "execution_count": null,
   "id": "f9e59e6f",
   "metadata": {},
   "outputs": [],
   "source": []
  }
 ],
 "metadata": {
  "kernelspec": {
   "display_name": "Python 3 (ipykernel)",
   "language": "python",
   "name": "python3"
  },
  "language_info": {
   "codemirror_mode": {
    "name": "ipython",
    "version": 3
   },
   "file_extension": ".py",
   "mimetype": "text/x-python",
   "name": "python",
   "nbconvert_exporter": "python",
   "pygments_lexer": "ipython3",
   "version": "3.8.18"
  }
 },
 "nbformat": 4,
 "nbformat_minor": 5
}

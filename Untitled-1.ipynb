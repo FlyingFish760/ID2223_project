{
 "cells": [
  {
   "cell_type": "code",
   "execution_count": 1,
   "metadata": {},
   "outputs": [
    {
     "name": "stdout",
     "output_type": "stream",
     "text": [
      "Connected. Call `.close()` to terminate connection gracefully.\n",
      "\n",
      "Logged in to project, explore it here https://c.app.hopsworks.ai:443/p/213141\n"
     ]
    }
   ],
   "source": [
    "import gradio as gr\n",
    "import hopsworks\n",
    "from PIL import Image\n",
    "\n",
    "# Log in to hopsworks\n",
    "project = hopsworks.login()\n",
    "dataset_api = project.get_dataset_api()\n",
    "\n",
    "# Get prediction history function\n",
    "def get_pred_history():\n",
    "    dataset_api.download(\"Resources/images/recent_pred_df.png\", overwrite=True)\n",
    "    pred_history = Image.open('recent_pred_df.png')\n",
    "    return pred_history"
   ]
  },
  {
   "cell_type": "code",
   "execution_count": 5,
   "metadata": {},
   "outputs": [
    {
     "name": "stderr",
     "output_type": "stream",
     "text": [
      "DeprecationWarning: \n",
      "        on_event is deprecated, use lifespan event handlers instead.\n",
      "\n",
      "        Read more about it in the\n",
      "        [FastAPI docs for Lifespan Events](https://fastapi.tiangolo.com/advanced/events/).\n",
      "        \n",
      "DeprecationWarning: \n",
      "        on_event is deprecated, use lifespan event handlers instead.\n",
      "\n",
      "        Read more about it in the\n",
      "        [FastAPI docs for Lifespan Events](https://fastapi.tiangolo.com/advanced/events/).\n",
      "        \n"
     ]
    },
    {
     "name": "stdout",
     "output_type": "stream",
     "text": [
      "Running on local URL:  http://127.0.0.1:7863\n",
      "2024-01-05 18:53:50,525 INFO: HTTP Request: GET http://127.0.0.1:7863/startup-events \"HTTP/1.1 200 OK\"\n",
      "2024-01-05 18:53:50,555 INFO: HTTP Request: HEAD http://127.0.0.1:7863/ \"HTTP/1.1 200 OK\"\n",
      "\n",
      "To create a public link, set `share=True` in `launch()`.\n"
     ]
    },
    {
     "data": {
      "text/html": [
       "<div><iframe src=\"http://127.0.0.1:7863/\" width=\"100%\" height=\"500\" allow=\"autoplay; camera; microphone; clipboard-read; clipboard-write;\" frameborder=\"0\" allowfullscreen></iframe></div>"
      ],
      "text/plain": [
       "<IPython.core.display.HTML object>"
      ]
     },
     "metadata": {},
     "output_type": "display_data"
    },
    {
     "data": {
      "text/plain": []
     },
     "execution_count": 5,
     "metadata": {},
     "output_type": "execute_result"
    },
    {
     "name": "stdout",
     "output_type": "stream",
     "text": [
      "2024-01-05 18:53:51,487 INFO: HTTP Request: GET https://api.gradio.app/pkg-version \"HTTP/1.1 200 OK\"\n",
      "2024-01-05 18:53:51,588 INFO: HTTP Request: POST https://api.gradio.app/gradio-initiated-analytics/ \"HTTP/1.1 200 OK\"\n",
      "2024-01-05 18:53:51,647 INFO: HTTP Request: POST https://api.gradio.app/gradio-launched-telemetry/ \"HTTP/1.1 200 OK\"\n"
     ]
    },
    {
     "data": {
      "application/vnd.jupyter.widget-view+json": {
       "model_id": "be26d03aa3d34b458de0e4a23c443463",
       "version_major": 2,
       "version_minor": 0
      },
      "text/plain": [
       "Downloading: 0.000%|          | 0/39239 elapsed<00:00 remaining<?"
      ]
     },
     "metadata": {},
     "output_type": "display_data"
    }
   ],
   "source": [
    "# Monitor interface\n",
    "with gr.Blocks() as demo:\n",
    "    with gr.Tabs():\n",
    "        with gr.TabItem(\"Prediction history\"):\n",
    "            with gr.Row():\n",
    "                btn_pred = gr.Button(\"Get history\")\n",
    "            with gr.Row():\n",
    "                pred_history = gr.Image(label='Most recent 5 predictions', height=600, width=300)\n",
    "\n",
    "    btn_pred.click(\n",
    "        get_pred_history,\n",
    "        inputs=None,\n",
    "        outputs=pred_history\n",
    "    )\n",
    "\n",
    "demo.launch()"
   ]
  }
 ],
 "metadata": {
  "kernelspec": {
   "display_name": "ID2223",
   "language": "python",
   "name": "python3"
  },
  "language_info": {
   "codemirror_mode": {
    "name": "ipython",
    "version": 3
   },
   "file_extension": ".py",
   "mimetype": "text/x-python",
   "name": "python",
   "nbconvert_exporter": "python",
   "pygments_lexer": "ipython3",
   "version": "3.8.5"
  }
 },
 "nbformat": 4,
 "nbformat_minor": 2
}
